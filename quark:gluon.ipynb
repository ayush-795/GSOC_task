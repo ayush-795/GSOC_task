{
  "nbformat": 4,
  "nbformat_minor": 0,
  "metadata": {
    "colab": {
      "provenance": []
    },
    "kernelspec": {
      "name": "python3",
      "display_name": "Python 3"
    },
    "language_info": {
      "name": "python"
    },
    "accelerator": "GPU",
    "gpuClass": "standard"
  },
  "cells": [
    {
      "cell_type": "code",
      "execution_count": 1,
      "metadata": {
        "id": "3eI6erdkoBL4"
      },
      "outputs": [],
      "source": [
        "import pandas as pd\n",
        "import numpy as np"
      ]
    },
    {
      "cell_type": "code",
      "source": [
        "import pyarrow.parquet as pq\n",
        "\n",
        "def read_file(path):\n",
        "  chunk_size = 25\n",
        "\n",
        "# Create a Parquet file reader object\n",
        "  parquet_file = pq.ParquetFile(path)\n",
        "\n",
        "# Determine the total number of rows in the file\n",
        "  total_rows = parquet_file.metadata.num_rows\n",
        "\n",
        "# Loop over the file in chunks\n",
        "  data = []\n",
        "  for i in range(0, total_rows, chunk_size):\n",
        "    # Read a chunk of rows from the file\n",
        "      chunk = (parquet_file.read_row_group(i))\n",
        "      dm = (chunk.to_pandas())\n",
        "#     print(i)\n",
        "      data.append(dm)\n",
        "\n",
        "# Concatenate all the DataFrames into a single DataFrame\n",
        "  df = pd.concat(data, ignore_index=True)\n",
        "  print(parquet_file.read_row_group(0).to_pandas())\n",
        "  return df"
      ],
      "metadata": {
        "id": "0SUrFV3Eof6m"
      },
      "execution_count": 2,
      "outputs": []
    },
    {
      "cell_type": "code",
      "source": [
        "df1 = read_file('/content/drive/MyDrive/download/QCDToGGQQ_IMGjet_RH1all_jet0_run0_n36272.test.snappy.parquet')\n",
        "df2 = read_file('/content/drive/MyDrive/download/QCDToGGQQ_IMGjet_RH1all_jet0_run1_n47540.test.snappy.parquet')\n",
        "df3 = read_file('/content/drive/MyDrive/download/QCDToGGQQ_IMGjet_RH1all_jet0_run2_n55494.test.snappy.parquet')"
      ],
      "metadata": {
        "colab": {
          "base_uri": "https://localhost:8080/"
        },
        "id": "QrImFhi2rA5C",
        "outputId": "0d7f9322-cd3f-47c3-d112-85bcc7f5e27f"
      },
      "execution_count": 3,
      "outputs": [
        {
          "output_type": "stream",
          "name": "stdout",
          "text": [
            "                                              X_jets          pt         m0  \\\n",
            "0  [[[0.0, 0.0, 0.0, 0.0, 0.0, 0.0, 0.0, 0.0, 0.0...  112.411095  21.098248   \n",
            "\n",
            "     y  \n",
            "0  0.0  \n",
            "                                              X_jets          pt         m0  \\\n",
            "0  [[[0.0, 0.0, 0.0, 0.0, 0.0, 0.0, 0.0, 0.0, 0.0...  147.686737  32.114449   \n",
            "\n",
            "     y  \n",
            "0  0.0  \n",
            "                                              X_jets          pt         m0  \\\n",
            "0  [[[0.0, 0.0, 0.0, 0.0, 0.0, 0.0, 0.0, 0.0, 0.0...  107.854118  18.723455   \n",
            "\n",
            "     y  \n",
            "0  0.0  \n"
          ]
        }
      ]
    },
    {
      "cell_type": "code",
      "source": [
        "df = pd.concat([df1,df2,df3],ignore_index=True)\n",
        "del [[df1,df2,df3]]"
      ],
      "metadata": {
        "id": "kk0ukVKirOrW"
      },
      "execution_count": 4,
      "outputs": []
    },
    {
      "cell_type": "code",
      "source": [
        "def to_3d(arr):\n",
        "    x_jets=[]\n",
        "    for i in range (0,3):\n",
        "        jets=np.stack(np.stack(arr)[i],axis=-1)\n",
        "        x_jets.append(jets)\n",
        "    x_jets=np.array(x_jets)\n",
        "    return x_jets"
      ],
      "metadata": {
        "id": "ObHIdZ4ErRxb"
      },
      "execution_count": 5,
      "outputs": []
    },
    {
      "cell_type": "code",
      "source": [
        "data_img = []\n",
        "for i in range (0,5573):\n",
        "   data_img.append(np.transpose(to_3d(df['X_jets'][i])))\n",
        "\n",
        "data_img = np.asarray(data_img)"
      ],
      "metadata": {
        "id": "KvMoQ50lrT_U"
      },
      "execution_count": 6,
      "outputs": []
    },
    {
      "cell_type": "code",
      "source": [
        "df = df.drop(['X_jets'],axis=1)\n",
        "y = df['y'].values"
      ],
      "metadata": {
        "id": "6P_n5xZArVgJ"
      },
      "execution_count": 7,
      "outputs": []
    },
    {
      "cell_type": "code",
      "source": [
        "from sklearn.model_selection import train_test_split\n",
        "x_train, X_test, y_train, Y_test = train_test_split(data_img,y,test_size=0.2,random_state=42)\n",
        "x_test, x_val, y_test, y_val = train_test_split(X_test,Y_test,test_size=0.5,random_state=42)"
      ],
      "metadata": {
        "id": "u07dE7EbrYEu"
      },
      "execution_count": 8,
      "outputs": []
    },
    {
      "cell_type": "code",
      "source": [
        "from tensorflow.keras.layers import Input, Conv2D, BatchNormalization, Activation, Add, MaxPooling2D, Flatten, Dense\n",
        "from tensorflow.keras.models import Model\n",
        "\n",
        "def res_block(input_data, filters, stride):\n",
        "    x = Conv2D(filters, kernel_size=3, strides=stride, padding='same')(input_data)\n",
        "    x = BatchNormalization()(x)\n",
        "    x = Activation('relu')(x)\n",
        "    x = Conv2D(filters, kernel_size=3, strides=1, padding='same')(x)\n",
        "    x = BatchNormalization()(x)\n",
        "    \n",
        "    shortcut = input_data\n",
        "    if stride != 1 or input_data.shape[-1] != filters:\n",
        "        shortcut = Conv2D(filters, kernel_size=1, strides=stride)(input_data)\n",
        "        shortcut = BatchNormalization()(shortcut)\n",
        "    \n",
        "    x = Add()([x, shortcut])\n",
        "    x = Activation('relu')(x)\n",
        "    return x\n",
        "\n",
        "def build_resnet():\n",
        "    input_layer = Input(shape=(125, 125, 3))\n",
        "    x = Conv2D(32, kernel_size=3, strides=1, padding='same')(input_layer)\n",
        "    x = BatchNormalization()(x)\n",
        "    x = Activation('relu')(x)\n",
        "    \n",
        "    # Add 3 residual blocks\n",
        "    x = res_block(x, filters=32, stride=1)\n",
        "    x = res_block(x, filters=32, stride=1)\n",
        "    x = res_block(x, filters=32, stride=1)\n",
        "    \n",
        "    x = MaxPooling2D(pool_size=(2, 2))(x)\n",
        "    \n",
        "    # Add 3 more residual blocks\n",
        "    x = res_block(x, filters=64, stride=1)\n",
        "    x = res_block(x, filters=64, stride=1)\n",
        "    x = res_block(x, filters=64, stride=1)\n",
        "    \n",
        "    x = MaxPooling2D(pool_size=(2, 2))(x)\n",
        "    \n",
        "    # Add 3 more residual blocks\n",
        "    x = res_block(x, filters=128, stride=1)\n",
        "    x = res_block(x, filters=128, stride=1)\n",
        "    x = res_block(x, filters=128, stride=1)\n",
        "    \n",
        "    x = MaxPooling2D(pool_size=(2, 2))(x)\n",
        "    \n",
        "    x = Flatten()(x)\n",
        "    x = Dense(256, activation='relu')(x)\n",
        "    x = Dense(128, activation='relu')(x)\n",
        "    output_layer = Dense(1, activation='sigmoid')(x)\n",
        "    \n",
        "    model = Model(inputs=input_layer, outputs=output_layer)\n",
        "    return model\n",
        "\n",
        "model = build_resnet()\n",
        "model.summary()"
      ],
      "metadata": {
        "colab": {
          "base_uri": "https://localhost:8080/"
        },
        "id": "F4Adgzjxraem",
        "outputId": "b6f18bf0-1c0e-47d6-f8d0-c9cb6171b3b4"
      },
      "execution_count": 9,
      "outputs": [
        {
          "output_type": "stream",
          "name": "stdout",
          "text": [
            "Model: \"model\"\n",
            "__________________________________________________________________________________________________\n",
            " Layer (type)                   Output Shape         Param #     Connected to                     \n",
            "==================================================================================================\n",
            " input_1 (InputLayer)           [(None, 125, 125, 3  0           []                               \n",
            "                                )]                                                                \n",
            "                                                                                                  \n",
            " conv2d (Conv2D)                (None, 125, 125, 32  896         ['input_1[0][0]']                \n",
            "                                )                                                                 \n",
            "                                                                                                  \n",
            " batch_normalization (BatchNorm  (None, 125, 125, 32  128        ['conv2d[0][0]']                 \n",
            " alization)                     )                                                                 \n",
            "                                                                                                  \n",
            " activation (Activation)        (None, 125, 125, 32  0           ['batch_normalization[0][0]']    \n",
            "                                )                                                                 \n",
            "                                                                                                  \n",
            " conv2d_1 (Conv2D)              (None, 125, 125, 32  9248        ['activation[0][0]']             \n",
            "                                )                                                                 \n",
            "                                                                                                  \n",
            " batch_normalization_1 (BatchNo  (None, 125, 125, 32  128        ['conv2d_1[0][0]']               \n",
            " rmalization)                   )                                                                 \n",
            "                                                                                                  \n",
            " activation_1 (Activation)      (None, 125, 125, 32  0           ['batch_normalization_1[0][0]']  \n",
            "                                )                                                                 \n",
            "                                                                                                  \n",
            " conv2d_2 (Conv2D)              (None, 125, 125, 32  9248        ['activation_1[0][0]']           \n",
            "                                )                                                                 \n",
            "                                                                                                  \n",
            " batch_normalization_2 (BatchNo  (None, 125, 125, 32  128        ['conv2d_2[0][0]']               \n",
            " rmalization)                   )                                                                 \n",
            "                                                                                                  \n",
            " add (Add)                      (None, 125, 125, 32  0           ['batch_normalization_2[0][0]',  \n",
            "                                )                                 'activation[0][0]']             \n",
            "                                                                                                  \n",
            " activation_2 (Activation)      (None, 125, 125, 32  0           ['add[0][0]']                    \n",
            "                                )                                                                 \n",
            "                                                                                                  \n",
            " conv2d_3 (Conv2D)              (None, 125, 125, 32  9248        ['activation_2[0][0]']           \n",
            "                                )                                                                 \n",
            "                                                                                                  \n",
            " batch_normalization_3 (BatchNo  (None, 125, 125, 32  128        ['conv2d_3[0][0]']               \n",
            " rmalization)                   )                                                                 \n",
            "                                                                                                  \n",
            " activation_3 (Activation)      (None, 125, 125, 32  0           ['batch_normalization_3[0][0]']  \n",
            "                                )                                                                 \n",
            "                                                                                                  \n",
            " conv2d_4 (Conv2D)              (None, 125, 125, 32  9248        ['activation_3[0][0]']           \n",
            "                                )                                                                 \n",
            "                                                                                                  \n",
            " batch_normalization_4 (BatchNo  (None, 125, 125, 32  128        ['conv2d_4[0][0]']               \n",
            " rmalization)                   )                                                                 \n",
            "                                                                                                  \n",
            " add_1 (Add)                    (None, 125, 125, 32  0           ['batch_normalization_4[0][0]',  \n",
            "                                )                                 'activation_2[0][0]']           \n",
            "                                                                                                  \n",
            " activation_4 (Activation)      (None, 125, 125, 32  0           ['add_1[0][0]']                  \n",
            "                                )                                                                 \n",
            "                                                                                                  \n",
            " conv2d_5 (Conv2D)              (None, 125, 125, 32  9248        ['activation_4[0][0]']           \n",
            "                                )                                                                 \n",
            "                                                                                                  \n",
            " batch_normalization_5 (BatchNo  (None, 125, 125, 32  128        ['conv2d_5[0][0]']               \n",
            " rmalization)                   )                                                                 \n",
            "                                                                                                  \n",
            " activation_5 (Activation)      (None, 125, 125, 32  0           ['batch_normalization_5[0][0]']  \n",
            "                                )                                                                 \n",
            "                                                                                                  \n",
            " conv2d_6 (Conv2D)              (None, 125, 125, 32  9248        ['activation_5[0][0]']           \n",
            "                                )                                                                 \n",
            "                                                                                                  \n",
            " batch_normalization_6 (BatchNo  (None, 125, 125, 32  128        ['conv2d_6[0][0]']               \n",
            " rmalization)                   )                                                                 \n",
            "                                                                                                  \n",
            " add_2 (Add)                    (None, 125, 125, 32  0           ['batch_normalization_6[0][0]',  \n",
            "                                )                                 'activation_4[0][0]']           \n",
            "                                                                                                  \n",
            " activation_6 (Activation)      (None, 125, 125, 32  0           ['add_2[0][0]']                  \n",
            "                                )                                                                 \n",
            "                                                                                                  \n",
            " max_pooling2d (MaxPooling2D)   (None, 62, 62, 32)   0           ['activation_6[0][0]']           \n",
            "                                                                                                  \n",
            " conv2d_7 (Conv2D)              (None, 62, 62, 64)   18496       ['max_pooling2d[0][0]']          \n",
            "                                                                                                  \n",
            " batch_normalization_7 (BatchNo  (None, 62, 62, 64)  256         ['conv2d_7[0][0]']               \n",
            " rmalization)                                                                                     \n",
            "                                                                                                  \n",
            " activation_7 (Activation)      (None, 62, 62, 64)   0           ['batch_normalization_7[0][0]']  \n",
            "                                                                                                  \n",
            " conv2d_8 (Conv2D)              (None, 62, 62, 64)   36928       ['activation_7[0][0]']           \n",
            "                                                                                                  \n",
            " conv2d_9 (Conv2D)              (None, 62, 62, 64)   2112        ['max_pooling2d[0][0]']          \n",
            "                                                                                                  \n",
            " batch_normalization_8 (BatchNo  (None, 62, 62, 64)  256         ['conv2d_8[0][0]']               \n",
            " rmalization)                                                                                     \n",
            "                                                                                                  \n",
            " batch_normalization_9 (BatchNo  (None, 62, 62, 64)  256         ['conv2d_9[0][0]']               \n",
            " rmalization)                                                                                     \n",
            "                                                                                                  \n",
            " add_3 (Add)                    (None, 62, 62, 64)   0           ['batch_normalization_8[0][0]',  \n",
            "                                                                  'batch_normalization_9[0][0]']  \n",
            "                                                                                                  \n",
            " activation_8 (Activation)      (None, 62, 62, 64)   0           ['add_3[0][0]']                  \n",
            "                                                                                                  \n",
            " conv2d_10 (Conv2D)             (None, 62, 62, 64)   36928       ['activation_8[0][0]']           \n",
            "                                                                                                  \n",
            " batch_normalization_10 (BatchN  (None, 62, 62, 64)  256         ['conv2d_10[0][0]']              \n",
            " ormalization)                                                                                    \n",
            "                                                                                                  \n",
            " activation_9 (Activation)      (None, 62, 62, 64)   0           ['batch_normalization_10[0][0]'] \n",
            "                                                                                                  \n",
            " conv2d_11 (Conv2D)             (None, 62, 62, 64)   36928       ['activation_9[0][0]']           \n",
            "                                                                                                  \n",
            " batch_normalization_11 (BatchN  (None, 62, 62, 64)  256         ['conv2d_11[0][0]']              \n",
            " ormalization)                                                                                    \n",
            "                                                                                                  \n",
            " add_4 (Add)                    (None, 62, 62, 64)   0           ['batch_normalization_11[0][0]', \n",
            "                                                                  'activation_8[0][0]']           \n",
            "                                                                                                  \n",
            " activation_10 (Activation)     (None, 62, 62, 64)   0           ['add_4[0][0]']                  \n",
            "                                                                                                  \n",
            " conv2d_12 (Conv2D)             (None, 62, 62, 64)   36928       ['activation_10[0][0]']          \n",
            "                                                                                                  \n",
            " batch_normalization_12 (BatchN  (None, 62, 62, 64)  256         ['conv2d_12[0][0]']              \n",
            " ormalization)                                                                                    \n",
            "                                                                                                  \n",
            " activation_11 (Activation)     (None, 62, 62, 64)   0           ['batch_normalization_12[0][0]'] \n",
            "                                                                                                  \n",
            " conv2d_13 (Conv2D)             (None, 62, 62, 64)   36928       ['activation_11[0][0]']          \n",
            "                                                                                                  \n",
            " batch_normalization_13 (BatchN  (None, 62, 62, 64)  256         ['conv2d_13[0][0]']              \n",
            " ormalization)                                                                                    \n",
            "                                                                                                  \n",
            " add_5 (Add)                    (None, 62, 62, 64)   0           ['batch_normalization_13[0][0]', \n",
            "                                                                  'activation_10[0][0]']          \n",
            "                                                                                                  \n",
            " activation_12 (Activation)     (None, 62, 62, 64)   0           ['add_5[0][0]']                  \n",
            "                                                                                                  \n",
            " max_pooling2d_1 (MaxPooling2D)  (None, 31, 31, 64)  0           ['activation_12[0][0]']          \n",
            "                                                                                                  \n",
            " conv2d_14 (Conv2D)             (None, 31, 31, 128)  73856       ['max_pooling2d_1[0][0]']        \n",
            "                                                                                                  \n",
            " batch_normalization_14 (BatchN  (None, 31, 31, 128)  512        ['conv2d_14[0][0]']              \n",
            " ormalization)                                                                                    \n",
            "                                                                                                  \n",
            " activation_13 (Activation)     (None, 31, 31, 128)  0           ['batch_normalization_14[0][0]'] \n",
            "                                                                                                  \n",
            " conv2d_15 (Conv2D)             (None, 31, 31, 128)  147584      ['activation_13[0][0]']          \n",
            "                                                                                                  \n",
            " conv2d_16 (Conv2D)             (None, 31, 31, 128)  8320        ['max_pooling2d_1[0][0]']        \n",
            "                                                                                                  \n",
            " batch_normalization_15 (BatchN  (None, 31, 31, 128)  512        ['conv2d_15[0][0]']              \n",
            " ormalization)                                                                                    \n",
            "                                                                                                  \n",
            " batch_normalization_16 (BatchN  (None, 31, 31, 128)  512        ['conv2d_16[0][0]']              \n",
            " ormalization)                                                                                    \n",
            "                                                                                                  \n",
            " add_6 (Add)                    (None, 31, 31, 128)  0           ['batch_normalization_15[0][0]', \n",
            "                                                                  'batch_normalization_16[0][0]'] \n",
            "                                                                                                  \n",
            " activation_14 (Activation)     (None, 31, 31, 128)  0           ['add_6[0][0]']                  \n",
            "                                                                                                  \n",
            " conv2d_17 (Conv2D)             (None, 31, 31, 128)  147584      ['activation_14[0][0]']          \n",
            "                                                                                                  \n",
            " batch_normalization_17 (BatchN  (None, 31, 31, 128)  512        ['conv2d_17[0][0]']              \n",
            " ormalization)                                                                                    \n",
            "                                                                                                  \n",
            " activation_15 (Activation)     (None, 31, 31, 128)  0           ['batch_normalization_17[0][0]'] \n",
            "                                                                                                  \n",
            " conv2d_18 (Conv2D)             (None, 31, 31, 128)  147584      ['activation_15[0][0]']          \n",
            "                                                                                                  \n",
            " batch_normalization_18 (BatchN  (None, 31, 31, 128)  512        ['conv2d_18[0][0]']              \n",
            " ormalization)                                                                                    \n",
            "                                                                                                  \n",
            " add_7 (Add)                    (None, 31, 31, 128)  0           ['batch_normalization_18[0][0]', \n",
            "                                                                  'activation_14[0][0]']          \n",
            "                                                                                                  \n",
            " activation_16 (Activation)     (None, 31, 31, 128)  0           ['add_7[0][0]']                  \n",
            "                                                                                                  \n",
            " conv2d_19 (Conv2D)             (None, 31, 31, 128)  147584      ['activation_16[0][0]']          \n",
            "                                                                                                  \n",
            " batch_normalization_19 (BatchN  (None, 31, 31, 128)  512        ['conv2d_19[0][0]']              \n",
            " ormalization)                                                                                    \n",
            "                                                                                                  \n",
            " activation_17 (Activation)     (None, 31, 31, 128)  0           ['batch_normalization_19[0][0]'] \n",
            "                                                                                                  \n",
            " conv2d_20 (Conv2D)             (None, 31, 31, 128)  147584      ['activation_17[0][0]']          \n",
            "                                                                                                  \n",
            " batch_normalization_20 (BatchN  (None, 31, 31, 128)  512        ['conv2d_20[0][0]']              \n",
            " ormalization)                                                                                    \n",
            "                                                                                                  \n",
            " add_8 (Add)                    (None, 31, 31, 128)  0           ['batch_normalization_20[0][0]', \n",
            "                                                                  'activation_16[0][0]']          \n",
            "                                                                                                  \n",
            " activation_18 (Activation)     (None, 31, 31, 128)  0           ['add_8[0][0]']                  \n",
            "                                                                                                  \n",
            " max_pooling2d_2 (MaxPooling2D)  (None, 15, 15, 128)  0          ['activation_18[0][0]']          \n",
            "                                                                                                  \n",
            " flatten (Flatten)              (None, 28800)        0           ['max_pooling2d_2[0][0]']        \n",
            "                                                                                                  \n",
            " dense (Dense)                  (None, 256)          7373056     ['flatten[0][0]']                \n",
            "                                                                                                  \n",
            " dense_1 (Dense)                (None, 128)          32896       ['dense[0][0]']                  \n",
            "                                                                                                  \n",
            " dense_2 (Dense)                (None, 1)            129         ['dense_1[0][0]']                \n",
            "                                                                                                  \n",
            "==================================================================================================\n",
            "Total params: 8,494,081\n",
            "Trainable params: 8,490,945\n",
            "Non-trainable params: 3,136\n",
            "__________________________________________________________________________________________________\n"
          ]
        }
      ]
    },
    {
      "cell_type": "code",
      "source": [
        "from keras.optimizers import Adam\n",
        "\n",
        "model.compile(loss='binary_crossentropy',\n",
        "              optimizer=Adam(learning_rate=0.0001),\n",
        "              metrics=['accuracy'])\n",
        "model.fit(x_train,y_train,validation_data=(x_val,y_val),epochs=20)"
      ],
      "metadata": {
        "colab": {
          "base_uri": "https://localhost:8080/"
        },
        "id": "-S9xMl9Nrd_-",
        "outputId": "9da38f01-e9f6-4f5b-ae97-831f9b57d5f3"
      },
      "execution_count": 11,
      "outputs": [
        {
          "output_type": "stream",
          "name": "stdout",
          "text": [
            "Epoch 1/20\n",
            "140/140 [==============================] - 33s 219ms/step - loss: 0.4759 - accuracy: 0.7705 - val_loss: 0.6307 - val_accuracy: 0.6882\n",
            "Epoch 2/20\n",
            "140/140 [==============================] - 31s 220ms/step - loss: 0.4281 - accuracy: 0.7945 - val_loss: 0.6764 - val_accuracy: 0.6577\n",
            "Epoch 3/20\n",
            "140/140 [==============================] - 30s 213ms/step - loss: 0.3870 - accuracy: 0.8208 - val_loss: 0.7103 - val_accuracy: 0.6649\n",
            "Epoch 4/20\n",
            "140/140 [==============================] - 30s 216ms/step - loss: 0.3351 - accuracy: 0.8544 - val_loss: 0.7865 - val_accuracy: 0.6667\n",
            "Epoch 5/20\n",
            "140/140 [==============================] - 30s 216ms/step - loss: 0.2839 - accuracy: 0.8809 - val_loss: 0.7891 - val_accuracy: 0.6774\n",
            "Epoch 6/20\n",
            "140/140 [==============================] - 30s 217ms/step - loss: 0.2172 - accuracy: 0.9136 - val_loss: 0.9699 - val_accuracy: 0.6595\n",
            "Epoch 7/20\n",
            "140/140 [==============================] - 30s 216ms/step - loss: 0.1707 - accuracy: 0.9379 - val_loss: 0.9999 - val_accuracy: 0.6720\n",
            "Epoch 8/20\n",
            "140/140 [==============================] - 30s 218ms/step - loss: 0.1100 - accuracy: 0.9625 - val_loss: 1.4067 - val_accuracy: 0.5986\n",
            "Epoch 9/20\n",
            "140/140 [==============================] - 30s 216ms/step - loss: 0.0796 - accuracy: 0.9758 - val_loss: 1.2394 - val_accuracy: 0.6434\n",
            "Epoch 10/20\n",
            "140/140 [==============================] - 31s 218ms/step - loss: 0.0536 - accuracy: 0.9830 - val_loss: 1.6278 - val_accuracy: 0.6541\n",
            "Epoch 11/20\n",
            "140/140 [==============================] - 30s 216ms/step - loss: 0.0369 - accuracy: 0.9917 - val_loss: 1.5671 - val_accuracy: 0.6344\n",
            "Epoch 12/20\n",
            "140/140 [==============================] - 30s 216ms/step - loss: 0.0168 - accuracy: 0.9973 - val_loss: 1.8043 - val_accuracy: 0.6613\n",
            "Epoch 13/20\n",
            "140/140 [==============================] - 30s 218ms/step - loss: 0.0083 - accuracy: 0.9989 - val_loss: 2.0898 - val_accuracy: 0.6900\n",
            "Epoch 14/20\n",
            "140/140 [==============================] - 30s 216ms/step - loss: 0.0170 - accuracy: 0.9964 - val_loss: 2.0307 - val_accuracy: 0.6559\n",
            "Epoch 15/20\n",
            "140/140 [==============================] - 30s 216ms/step - loss: 0.0290 - accuracy: 0.9926 - val_loss: 1.7104 - val_accuracy: 0.6452\n",
            "Epoch 16/20\n",
            "140/140 [==============================] - 31s 218ms/step - loss: 0.0271 - accuracy: 0.9917 - val_loss: 1.8290 - val_accuracy: 0.6738\n",
            "Epoch 17/20\n",
            "140/140 [==============================] - 31s 220ms/step - loss: 0.0093 - accuracy: 0.9984 - val_loss: 1.9989 - val_accuracy: 0.6756\n",
            "Epoch 18/20\n",
            "140/140 [==============================] - 30s 217ms/step - loss: 0.0093 - accuracy: 0.9984 - val_loss: 2.9420 - val_accuracy: 0.6093\n",
            "Epoch 19/20\n",
            "140/140 [==============================] - 31s 218ms/step - loss: 0.0323 - accuracy: 0.9917 - val_loss: 1.7441 - val_accuracy: 0.6416\n",
            "Epoch 20/20\n",
            "140/140 [==============================] - 30s 217ms/step - loss: 0.0132 - accuracy: 0.9971 - val_loss: 2.0963 - val_accuracy: 0.6667\n"
          ]
        },
        {
          "output_type": "execute_result",
          "data": {
            "text/plain": [
              "<keras.callbacks.History at 0x7fa42b2e14c0>"
            ]
          },
          "metadata": {},
          "execution_count": 11
        }
      ]
    },
    {
      "cell_type": "code",
      "source": [
        "from sklearn.metrics import roc_auc_score\n",
        "pred_prob = model.predict(x_test)\n",
        "auc_score = roc_auc_score(y_test, pred_prob[:])\n",
        "auc_score"
      ],
      "metadata": {
        "colab": {
          "base_uri": "https://localhost:8080/"
        },
        "id": "xFBHeEV5ubyX",
        "outputId": "56de160e-d41e-44e4-cc8f-c39d60714e0b"
      },
      "execution_count": 12,
      "outputs": [
        {
          "output_type": "stream",
          "name": "stdout",
          "text": [
            "18/18 [==============================] - 2s 78ms/step\n"
          ]
        },
        {
          "output_type": "execute_result",
          "data": {
            "text/plain": [
              "0.7153596545661391"
            ]
          },
          "metadata": {},
          "execution_count": 12
        }
      ]
    },
    {
      "cell_type": "markdown",
      "source": [
        "We can get even more higher accuracy if we concatenate the output of our resnet model for the image with the other two energy criteria given in the dataset and then running it from a simple neural network with 2 or 3 hidden layers with relu but I can't achieve that due to my limitation of computational resources"
      ],
      "metadata": {
        "id": "ZH1XRBn0Az0X"
      }
    }
  ]
}