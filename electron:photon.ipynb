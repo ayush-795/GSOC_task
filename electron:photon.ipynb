{
  "nbformat": 4,
  "nbformat_minor": 0,
  "metadata": {
    "colab": {
      "provenance": []
    },
    "kernelspec": {
      "name": "python3",
      "display_name": "Python 3"
    },
    "language_info": {
      "name": "python"
    },
    "accelerator": "GPU",
    "gpuClass": "standard"
  },
  "cells": [
    {
      "cell_type": "code",
      "execution_count": 1,
      "metadata": {
        "id": "45IviexcDzwZ"
      },
      "outputs": [],
      "source": [
        "import numpy as np\n",
        "import h5py"
      ]
    },
    {
      "cell_type": "code",
      "source": [
        "hf = h5py.File('/content/drive/MyDrive/data/SingleElectronPt50_IMGCROPS_n249k_RHv1.hdf5','r')\n",
        "x = hf.get('X')[:50000]\n",
        "y = hf.get('y')[:50000]\n",
        "\n",
        "x_electron = np.asarray(x)\n",
        "y_electron = np.asarray(y)\n",
        "x = None\n",
        "y = None"
      ],
      "metadata": {
        "id": "XFNKXgF3EFQ4"
      },
      "execution_count": 2,
      "outputs": []
    },
    {
      "cell_type": "code",
      "source": [
        "from keras.optimizers.schedules.learning_rate_schedule import NoisyLinearCosineDecay\n",
        "hf1 = h5py.File('/content/drive/MyDrive/data/SinglePhotonPt50_IMGCROPS_n249k_RHv1.hdf5','r')\n",
        "x1 = hf1.get('X')[:50000]\n",
        "y1 = hf1.get('y')[:50000]\n",
        "\n",
        "x_photon = np.asarray(x1)\n",
        "y_photon = np.asarray(y1)\n",
        "x1 = None\n",
        "y1 = None"
      ],
      "metadata": {
        "id": "IVRmbejhEHdf"
      },
      "execution_count": 3,
      "outputs": []
    },
    {
      "cell_type": "code",
      "source": [
        "x_data = np.concatenate((x_electron,x_photon),axis=0)\n",
        "y_data = np.concatenate((y_electron,y_photon),axis=0)\n",
        "avg_channel = np.mean(x_data[:,:, :, :2], axis=-1, keepdims=True)\n",
        "\n",
        "# Concatenate the average channel with the original image\n",
        "x_data = np.concatenate((x_data, avg_channel), axis=-1)"
      ],
      "metadata": {
        "id": "d4WB0wJMEJJK"
      },
      "execution_count": 4,
      "outputs": []
    },
    {
      "cell_type": "code",
      "source": [
        "import tensorflow as tf\n",
        "from tensorflow import keras\n",
        "from keras import layers\n",
        "from sklearn.model_selection import train_test_split\n",
        "from sklearn.metrics import roc_auc_score\n",
        "import matplotlib.pyplot as plt\n",
        "%matplotlib inline"
      ],
      "metadata": {
        "id": "U-XH0VpYELMh"
      },
      "execution_count": 5,
      "outputs": []
    },
    {
      "cell_type": "code",
      "source": [
        "x_train, x_validate, y_train, y_validate = train_test_split(x_data, y_data, test_size=0.2, random_state=42)\n",
        "x_test, x_val, y_test, y_val = train_test_split(x_validate, y_validate, test_size=0.5, random_state=42)\n",
        "\n",
        "x_data = None\n",
        "y_data = None"
      ],
      "metadata": {
        "id": "hFyooH29EM3Z"
      },
      "execution_count": 6,
      "outputs": []
    },
    {
      "cell_type": "code",
      "source": [
        "import tensorflow as tf\n",
        "\n",
        "input_shape = (32, 32, 3)\n",
        "num_classes = 1\n",
        "\n",
        "def residual_block(inputs, filters):\n",
        "    x = tf.keras.layers.Conv2D(filters, 3, padding='same', activation='relu')(inputs)\n",
        "    x = tf.keras.layers.Conv2D(filters, 3, padding='same', activation=None)(x)\n",
        "    if inputs.shape[-1] != filters:\n",
        "        inputs = tf.keras.layers.Conv2D(filters, 1, padding='same', activation=None)(inputs)\n",
        "    x = tf.keras.layers.add([x, inputs])\n",
        "    return tf.keras.layers.Activation('relu')(x)\n",
        "\n",
        "inputs = tf.keras.layers.Input(shape=input_shape)\n",
        "x = tf.keras.layers.Conv2D(16, 3, padding='same', activation='relu')(inputs)\n",
        "x = residual_block(x, 16)\n",
        "x = residual_block(x, 16)\n",
        "x = tf.keras.layers.MaxPooling2D(pool_size=2, strides=2)(x)\n",
        "x = residual_block(x, 32)\n",
        "x = residual_block(x, 32)\n",
        "x = tf.keras.layers.MaxPooling2D(pool_size=2, strides=2)(x)\n",
        "x = tf.keras.layers.Flatten()(x)\n",
        "x = tf.keras.layers.Dense(256, activation='relu')(x)\n",
        "outputs = tf.keras.layers.Dense(num_classes, activation='sigmoid')(x)\n",
        "\n",
        "model1 = tf.keras.models.Model(inputs=inputs, outputs=outputs)\n",
        "model1.summary()"
      ],
      "metadata": {
        "colab": {
          "base_uri": "https://localhost:8080/"
        },
        "id": "8s-yktFeEOyz",
        "outputId": "ca226fd3-a338-4e5a-b704-445172fe778b"
      },
      "execution_count": 8,
      "outputs": [
        {
          "output_type": "stream",
          "name": "stdout",
          "text": [
            "Model: \"model_1\"\n",
            "__________________________________________________________________________________________________\n",
            " Layer (type)                   Output Shape         Param #     Connected to                     \n",
            "==================================================================================================\n",
            " input_2 (InputLayer)           [(None, 32, 32, 3)]  0           []                               \n",
            "                                                                                                  \n",
            " conv2d_10 (Conv2D)             (None, 32, 32, 16)   448         ['input_2[0][0]']                \n",
            "                                                                                                  \n",
            " conv2d_11 (Conv2D)             (None, 32, 32, 16)   2320        ['conv2d_10[0][0]']              \n",
            "                                                                                                  \n",
            " conv2d_12 (Conv2D)             (None, 32, 32, 16)   2320        ['conv2d_11[0][0]']              \n",
            "                                                                                                  \n",
            " add_4 (Add)                    (None, 32, 32, 16)   0           ['conv2d_12[0][0]',              \n",
            "                                                                  'conv2d_10[0][0]']              \n",
            "                                                                                                  \n",
            " activation_4 (Activation)      (None, 32, 32, 16)   0           ['add_4[0][0]']                  \n",
            "                                                                                                  \n",
            " conv2d_13 (Conv2D)             (None, 32, 32, 16)   2320        ['activation_4[0][0]']           \n",
            "                                                                                                  \n",
            " conv2d_14 (Conv2D)             (None, 32, 32, 16)   2320        ['conv2d_13[0][0]']              \n",
            "                                                                                                  \n",
            " add_5 (Add)                    (None, 32, 32, 16)   0           ['conv2d_14[0][0]',              \n",
            "                                                                  'activation_4[0][0]']           \n",
            "                                                                                                  \n",
            " activation_5 (Activation)      (None, 32, 32, 16)   0           ['add_5[0][0]']                  \n",
            "                                                                                                  \n",
            " max_pooling2d_2 (MaxPooling2D)  (None, 16, 16, 16)  0           ['activation_5[0][0]']           \n",
            "                                                                                                  \n",
            " conv2d_15 (Conv2D)             (None, 16, 16, 32)   4640        ['max_pooling2d_2[0][0]']        \n",
            "                                                                                                  \n",
            " conv2d_16 (Conv2D)             (None, 16, 16, 32)   9248        ['conv2d_15[0][0]']              \n",
            "                                                                                                  \n",
            " conv2d_17 (Conv2D)             (None, 16, 16, 32)   544         ['max_pooling2d_2[0][0]']        \n",
            "                                                                                                  \n",
            " add_6 (Add)                    (None, 16, 16, 32)   0           ['conv2d_16[0][0]',              \n",
            "                                                                  'conv2d_17[0][0]']              \n",
            "                                                                                                  \n",
            " activation_6 (Activation)      (None, 16, 16, 32)   0           ['add_6[0][0]']                  \n",
            "                                                                                                  \n",
            " conv2d_18 (Conv2D)             (None, 16, 16, 32)   9248        ['activation_6[0][0]']           \n",
            "                                                                                                  \n",
            " conv2d_19 (Conv2D)             (None, 16, 16, 32)   9248        ['conv2d_18[0][0]']              \n",
            "                                                                                                  \n",
            " add_7 (Add)                    (None, 16, 16, 32)   0           ['conv2d_19[0][0]',              \n",
            "                                                                  'activation_6[0][0]']           \n",
            "                                                                                                  \n",
            " activation_7 (Activation)      (None, 16, 16, 32)   0           ['add_7[0][0]']                  \n",
            "                                                                                                  \n",
            " max_pooling2d_3 (MaxPooling2D)  (None, 8, 8, 32)    0           ['activation_7[0][0]']           \n",
            "                                                                                                  \n",
            " flatten_1 (Flatten)            (None, 2048)         0           ['max_pooling2d_3[0][0]']        \n",
            "                                                                                                  \n",
            " dense_2 (Dense)                (None, 256)          524544      ['flatten_1[0][0]']              \n",
            "                                                                                                  \n",
            " dense_3 (Dense)                (None, 1)            257         ['dense_2[0][0]']                \n",
            "                                                                                                  \n",
            "==================================================================================================\n",
            "Total params: 567,457\n",
            "Trainable params: 567,457\n",
            "Non-trainable params: 0\n",
            "__________________________________________________________________________________________________\n"
          ]
        }
      ]
    },
    {
      "cell_type": "code",
      "source": [
        "model1.compile(loss='binary_crossentropy',\n",
        "              optimizer='nadam',\n",
        "              metrics=['accuracy'])\n",
        "model1.fit(x_train,y_train,validation_data=(x_val,y_val),epochs=20)"
      ],
      "metadata": {
        "colab": {
          "base_uri": "https://localhost:8080/"
        },
        "id": "nwIZwI2QEQSC",
        "outputId": "eb180819-635c-470b-b490-5776c1520b9d"
      },
      "execution_count": 9,
      "outputs": [
        {
          "output_type": "stream",
          "name": "stdout",
          "text": [
            "Epoch 1/20\n",
            "2500/2500 [==============================] - 49s 11ms/step - loss: 0.6547 - accuracy: 0.6145 - val_loss: 0.6435 - val_accuracy: 0.6265\n",
            "Epoch 2/20\n",
            "2500/2500 [==============================] - 27s 11ms/step - loss: 0.6279 - accuracy: 0.6524 - val_loss: 0.6074 - val_accuracy: 0.6752\n",
            "Epoch 3/20\n",
            "2500/2500 [==============================] - 28s 11ms/step - loss: 0.5988 - accuracy: 0.6857 - val_loss: 0.5887 - val_accuracy: 0.6922\n",
            "Epoch 4/20\n",
            "2500/2500 [==============================] - 27s 11ms/step - loss: 0.5840 - accuracy: 0.7003 - val_loss: 0.5817 - val_accuracy: 0.7004\n",
            "Epoch 5/20\n",
            "2500/2500 [==============================] - 28s 11ms/step - loss: 0.5782 - accuracy: 0.7053 - val_loss: 0.5792 - val_accuracy: 0.6996\n",
            "Epoch 6/20\n",
            "2500/2500 [==============================] - 26s 11ms/step - loss: 0.5716 - accuracy: 0.7103 - val_loss: 0.5768 - val_accuracy: 0.7044\n",
            "Epoch 7/20\n",
            "2500/2500 [==============================] - 26s 10ms/step - loss: 0.5681 - accuracy: 0.7133 - val_loss: 0.5804 - val_accuracy: 0.7024\n",
            "Epoch 8/20\n",
            "2500/2500 [==============================] - 25s 10ms/step - loss: 0.5658 - accuracy: 0.7153 - val_loss: 0.5738 - val_accuracy: 0.7096\n",
            "Epoch 9/20\n",
            "2500/2500 [==============================] - 25s 10ms/step - loss: 0.5620 - accuracy: 0.7187 - val_loss: 0.5695 - val_accuracy: 0.7112\n",
            "Epoch 10/20\n",
            "2500/2500 [==============================] - 24s 10ms/step - loss: 0.5598 - accuracy: 0.7198 - val_loss: 0.5752 - val_accuracy: 0.7082\n",
            "Epoch 11/20\n",
            "2500/2500 [==============================] - 24s 10ms/step - loss: 0.5576 - accuracy: 0.7217 - val_loss: 0.5800 - val_accuracy: 0.7100\n",
            "Epoch 12/20\n",
            "2500/2500 [==============================] - 24s 10ms/step - loss: 0.5541 - accuracy: 0.7242 - val_loss: 0.5805 - val_accuracy: 0.7039\n",
            "Epoch 13/20\n",
            "2500/2500 [==============================] - 24s 10ms/step - loss: 0.5528 - accuracy: 0.7253 - val_loss: 0.5654 - val_accuracy: 0.7120\n",
            "Epoch 14/20\n",
            "2500/2500 [==============================] - 26s 10ms/step - loss: 0.5505 - accuracy: 0.7263 - val_loss: 0.5653 - val_accuracy: 0.7100\n",
            "Epoch 15/20\n",
            "2500/2500 [==============================] - 24s 9ms/step - loss: 0.5484 - accuracy: 0.7283 - val_loss: 0.5728 - val_accuracy: 0.7105\n",
            "Epoch 16/20\n",
            "2500/2500 [==============================] - 24s 10ms/step - loss: 0.5460 - accuracy: 0.7306 - val_loss: 0.5788 - val_accuracy: 0.7052\n",
            "Epoch 17/20\n",
            "2500/2500 [==============================] - 24s 10ms/step - loss: 0.5438 - accuracy: 0.7305 - val_loss: 0.5663 - val_accuracy: 0.7136\n",
            "Epoch 18/20\n",
            "2500/2500 [==============================] - 24s 9ms/step - loss: 0.5422 - accuracy: 0.7333 - val_loss: 0.5633 - val_accuracy: 0.7156\n",
            "Epoch 19/20\n",
            "2500/2500 [==============================] - 24s 9ms/step - loss: 0.5392 - accuracy: 0.7357 - val_loss: 0.5680 - val_accuracy: 0.7184\n",
            "Epoch 20/20\n",
            "2500/2500 [==============================] - 24s 9ms/step - loss: 0.5367 - accuracy: 0.7379 - val_loss: 0.5681 - val_accuracy: 0.7128\n"
          ]
        },
        {
          "output_type": "execute_result",
          "data": {
            "text/plain": [
              "<keras.callbacks.History at 0x7f2b98107910>"
            ]
          },
          "metadata": {},
          "execution_count": 9
        }
      ]
    },
    {
      "cell_type": "code",
      "source": [
        "from sklearn.metrics import roc_auc_score\n",
        "pred_prob1 = model1.predict(x_test)\n",
        "auc_score1 = roc_auc_score(y_test, pred_prob1[:])\n",
        "auc_score1"
      ],
      "metadata": {
        "colab": {
          "base_uri": "https://localhost:8080/"
        },
        "id": "lh1b4HgUEc8b",
        "outputId": "6fea2139-d846-4b31-85e1-57e1aa8a794e"
      },
      "execution_count": 10,
      "outputs": [
        {
          "output_type": "stream",
          "name": "stdout",
          "text": [
            "313/313 [==============================] - 1s 3ms/step\n"
          ]
        },
        {
          "output_type": "execute_result",
          "data": {
            "text/plain": [
              "0.7813479721317492"
            ]
          },
          "metadata": {},
          "execution_count": 10
        }
      ]
    },
    {
      "cell_type": "code",
      "source": [
        "import tensorflow as tf\n",
        "\n",
        "input_shape = (32, 32, 3)\n",
        "num_classes = 1\n",
        "\n",
        "def residual_block(inputs, filters):\n",
        "    x = tf.keras.layers.Conv2D(filters, 3, padding='same', activation='relu')(inputs)\n",
        "    x = tf.keras.layers.BatchNormalization()(x)\n",
        "    x = tf.keras.layers.Conv2D(filters, 3, padding='same', activation=None)(x)\n",
        "    x = tf.keras.layers.BatchNormalization()(x)\n",
        "    if inputs.shape[-1] != filters:\n",
        "        inputs = tf.keras.layers.Conv2D(filters, 1, padding='same', activation=None)(inputs)\n",
        "        inputs = tf.keras.layers.BatchNormalization()(inputs)\n",
        "    x = tf.keras.layers.add([x, inputs])\n",
        "    return tf.keras.layers.Activation('relu')(x)\n",
        "\n",
        "inputs = tf.keras.layers.Input(shape=input_shape)\n",
        "x = tf.keras.layers.Conv2D(32, 3, padding='same', activation='relu')(inputs)\n",
        "x = tf.keras.layers.BatchNormalization()(x)\n",
        "x = residual_block(x, 32)\n",
        "x = residual_block(x, 32)\n",
        "x = tf.keras.layers.MaxPooling2D(pool_size=2, strides=2)(x)\n",
        "x = residual_block(x, 64)\n",
        "x = residual_block(x, 64)\n",
        "x = tf.keras.layers.MaxPooling2D(pool_size=2, strides=2)(x)\n",
        "x = tf.keras.layers.Flatten()(x)\n",
        "x = tf.keras.layers.Dense(512, activation='relu')(x)\n",
        "x = tf.keras.layers.Dropout(0.5)(x)\n",
        "outputs = tf.keras.layers.Dense(num_classes, activation='sigmoid')(x)\n",
        "\n",
        "model2 = tf.keras.models.Model(inputs=inputs, outputs=outputs)\n",
        "model2.summary()"
      ],
      "metadata": {
        "colab": {
          "base_uri": "https://localhost:8080/"
        },
        "id": "X56jEhH-EeX5",
        "outputId": "837deae4-e74e-41b4-dad1-9f3a561c3aeb"
      },
      "execution_count": 11,
      "outputs": [
        {
          "output_type": "stream",
          "name": "stdout",
          "text": [
            "Model: \"model_2\"\n",
            "__________________________________________________________________________________________________\n",
            " Layer (type)                   Output Shape         Param #     Connected to                     \n",
            "==================================================================================================\n",
            " input_3 (InputLayer)           [(None, 32, 32, 3)]  0           []                               \n",
            "                                                                                                  \n",
            " conv2d_20 (Conv2D)             (None, 32, 32, 32)   896         ['input_3[0][0]']                \n",
            "                                                                                                  \n",
            " batch_normalization (BatchNorm  (None, 32, 32, 32)  128         ['conv2d_20[0][0]']              \n",
            " alization)                                                                                       \n",
            "                                                                                                  \n",
            " conv2d_21 (Conv2D)             (None, 32, 32, 32)   9248        ['batch_normalization[0][0]']    \n",
            "                                                                                                  \n",
            " batch_normalization_1 (BatchNo  (None, 32, 32, 32)  128         ['conv2d_21[0][0]']              \n",
            " rmalization)                                                                                     \n",
            "                                                                                                  \n",
            " conv2d_22 (Conv2D)             (None, 32, 32, 32)   9248        ['batch_normalization_1[0][0]']  \n",
            "                                                                                                  \n",
            " batch_normalization_2 (BatchNo  (None, 32, 32, 32)  128         ['conv2d_22[0][0]']              \n",
            " rmalization)                                                                                     \n",
            "                                                                                                  \n",
            " add_8 (Add)                    (None, 32, 32, 32)   0           ['batch_normalization_2[0][0]',  \n",
            "                                                                  'batch_normalization[0][0]']    \n",
            "                                                                                                  \n",
            " activation_8 (Activation)      (None, 32, 32, 32)   0           ['add_8[0][0]']                  \n",
            "                                                                                                  \n",
            " conv2d_23 (Conv2D)             (None, 32, 32, 32)   9248        ['activation_8[0][0]']           \n",
            "                                                                                                  \n",
            " batch_normalization_3 (BatchNo  (None, 32, 32, 32)  128         ['conv2d_23[0][0]']              \n",
            " rmalization)                                                                                     \n",
            "                                                                                                  \n",
            " conv2d_24 (Conv2D)             (None, 32, 32, 32)   9248        ['batch_normalization_3[0][0]']  \n",
            "                                                                                                  \n",
            " batch_normalization_4 (BatchNo  (None, 32, 32, 32)  128         ['conv2d_24[0][0]']              \n",
            " rmalization)                                                                                     \n",
            "                                                                                                  \n",
            " add_9 (Add)                    (None, 32, 32, 32)   0           ['batch_normalization_4[0][0]',  \n",
            "                                                                  'activation_8[0][0]']           \n",
            "                                                                                                  \n",
            " activation_9 (Activation)      (None, 32, 32, 32)   0           ['add_9[0][0]']                  \n",
            "                                                                                                  \n",
            " max_pooling2d_4 (MaxPooling2D)  (None, 16, 16, 32)  0           ['activation_9[0][0]']           \n",
            "                                                                                                  \n",
            " conv2d_25 (Conv2D)             (None, 16, 16, 64)   18496       ['max_pooling2d_4[0][0]']        \n",
            "                                                                                                  \n",
            " batch_normalization_5 (BatchNo  (None, 16, 16, 64)  256         ['conv2d_25[0][0]']              \n",
            " rmalization)                                                                                     \n",
            "                                                                                                  \n",
            " conv2d_26 (Conv2D)             (None, 16, 16, 64)   36928       ['batch_normalization_5[0][0]']  \n",
            "                                                                                                  \n",
            " conv2d_27 (Conv2D)             (None, 16, 16, 64)   2112        ['max_pooling2d_4[0][0]']        \n",
            "                                                                                                  \n",
            " batch_normalization_6 (BatchNo  (None, 16, 16, 64)  256         ['conv2d_26[0][0]']              \n",
            " rmalization)                                                                                     \n",
            "                                                                                                  \n",
            " batch_normalization_7 (BatchNo  (None, 16, 16, 64)  256         ['conv2d_27[0][0]']              \n",
            " rmalization)                                                                                     \n",
            "                                                                                                  \n",
            " add_10 (Add)                   (None, 16, 16, 64)   0           ['batch_normalization_6[0][0]',  \n",
            "                                                                  'batch_normalization_7[0][0]']  \n",
            "                                                                                                  \n",
            " activation_10 (Activation)     (None, 16, 16, 64)   0           ['add_10[0][0]']                 \n",
            "                                                                                                  \n",
            " conv2d_28 (Conv2D)             (None, 16, 16, 64)   36928       ['activation_10[0][0]']          \n",
            "                                                                                                  \n",
            " batch_normalization_8 (BatchNo  (None, 16, 16, 64)  256         ['conv2d_28[0][0]']              \n",
            " rmalization)                                                                                     \n",
            "                                                                                                  \n",
            " conv2d_29 (Conv2D)             (None, 16, 16, 64)   36928       ['batch_normalization_8[0][0]']  \n",
            "                                                                                                  \n",
            " batch_normalization_9 (BatchNo  (None, 16, 16, 64)  256         ['conv2d_29[0][0]']              \n",
            " rmalization)                                                                                     \n",
            "                                                                                                  \n",
            " add_11 (Add)                   (None, 16, 16, 64)   0           ['batch_normalization_9[0][0]',  \n",
            "                                                                  'activation_10[0][0]']          \n",
            "                                                                                                  \n",
            " activation_11 (Activation)     (None, 16, 16, 64)   0           ['add_11[0][0]']                 \n",
            "                                                                                                  \n",
            " max_pooling2d_5 (MaxPooling2D)  (None, 8, 8, 64)    0           ['activation_11[0][0]']          \n",
            "                                                                                                  \n",
            " flatten_2 (Flatten)            (None, 4096)         0           ['max_pooling2d_5[0][0]']        \n",
            "                                                                                                  \n",
            " dense_4 (Dense)                (None, 512)          2097664     ['flatten_2[0][0]']              \n",
            "                                                                                                  \n",
            " dropout (Dropout)              (None, 512)          0           ['dense_4[0][0]']                \n",
            "                                                                                                  \n",
            " dense_5 (Dense)                (None, 1)            513         ['dropout[0][0]']                \n",
            "                                                                                                  \n",
            "==================================================================================================\n",
            "Total params: 2,269,377\n",
            "Trainable params: 2,268,417\n",
            "Non-trainable params: 960\n",
            "__________________________________________________________________________________________________\n"
          ]
        }
      ]
    },
    {
      "cell_type": "code",
      "source": [
        "from keras.optimizers import Adam\n",
        "\n",
        "model2.compile(loss='binary_crossentropy',\n",
        "              optimizer=Adam(learning_rate=0.009),\n",
        "              metrics=['accuracy'])\n",
        "model2.fit(x_train,y_train,validation_data=(x_val,y_val),epochs=20)"
      ],
      "metadata": {
        "colab": {
          "base_uri": "https://localhost:8080/"
        },
        "id": "4uiwPWGiEfrg",
        "outputId": "ea6bc989-f9a8-48ee-b8c8-d25a0de98f96"
      },
      "execution_count": 12,
      "outputs": [
        {
          "output_type": "stream",
          "name": "stdout",
          "text": [
            "Epoch 1/20\n",
            "2500/2500 [==============================] - 27s 10ms/step - loss: 0.8181 - accuracy: 0.5881 - val_loss: 0.6537 - val_accuracy: 0.6095\n",
            "Epoch 2/20\n",
            "2500/2500 [==============================] - 25s 10ms/step - loss: 0.6352 - accuracy: 0.6543 - val_loss: 0.6343 - val_accuracy: 0.6733\n",
            "Epoch 3/20\n",
            "2500/2500 [==============================] - 25s 10ms/step - loss: 0.6129 - accuracy: 0.6826 - val_loss: 0.8784 - val_accuracy: 0.4993\n",
            "Epoch 4/20\n",
            "2500/2500 [==============================] - 24s 10ms/step - loss: 0.6013 - accuracy: 0.6913 - val_loss: 0.6171 - val_accuracy: 0.6695\n",
            "Epoch 5/20\n",
            "2500/2500 [==============================] - 25s 10ms/step - loss: 0.5955 - accuracy: 0.6978 - val_loss: 0.6079 - val_accuracy: 0.6773\n",
            "Epoch 6/20\n",
            "2500/2500 [==============================] - 25s 10ms/step - loss: 0.5915 - accuracy: 0.6990 - val_loss: 0.5807 - val_accuracy: 0.6974\n",
            "Epoch 7/20\n",
            "2500/2500 [==============================] - 25s 10ms/step - loss: 0.5890 - accuracy: 0.7009 - val_loss: 0.5875 - val_accuracy: 0.6902\n",
            "Epoch 8/20\n",
            "2500/2500 [==============================] - 25s 10ms/step - loss: 0.5838 - accuracy: 0.7055 - val_loss: 0.6005 - val_accuracy: 0.6783\n",
            "Epoch 9/20\n",
            "2500/2500 [==============================] - 26s 10ms/step - loss: 0.5822 - accuracy: 0.7063 - val_loss: 0.6452 - val_accuracy: 0.5861\n",
            "Epoch 10/20\n",
            "2500/2500 [==============================] - 24s 10ms/step - loss: 0.5794 - accuracy: 0.7082 - val_loss: 0.5741 - val_accuracy: 0.7089\n",
            "Epoch 11/20\n",
            "2500/2500 [==============================] - 25s 10ms/step - loss: 0.5770 - accuracy: 0.7119 - val_loss: 0.6273 - val_accuracy: 0.6864\n",
            "Epoch 12/20\n",
            "2500/2500 [==============================] - 25s 10ms/step - loss: 0.5756 - accuracy: 0.7131 - val_loss: 0.5821 - val_accuracy: 0.7098\n",
            "Epoch 13/20\n",
            "2500/2500 [==============================] - 25s 10ms/step - loss: 0.5729 - accuracy: 0.7127 - val_loss: 0.5736 - val_accuracy: 0.7054\n",
            "Epoch 14/20\n",
            "2500/2500 [==============================] - 26s 10ms/step - loss: 0.5716 - accuracy: 0.7134 - val_loss: 0.5793 - val_accuracy: 0.7048\n",
            "Epoch 15/20\n",
            "2500/2500 [==============================] - 25s 10ms/step - loss: 0.5714 - accuracy: 0.7161 - val_loss: 1.4877 - val_accuracy: 0.5352\n",
            "Epoch 16/20\n",
            "2500/2500 [==============================] - 26s 10ms/step - loss: 0.5697 - accuracy: 0.7183 - val_loss: 0.6475 - val_accuracy: 0.6287\n",
            "Epoch 17/20\n",
            "2500/2500 [==============================] - 25s 10ms/step - loss: 0.5672 - accuracy: 0.7170 - val_loss: 0.8692 - val_accuracy: 0.5595\n",
            "Epoch 18/20\n",
            "2500/2500 [==============================] - 25s 10ms/step - loss: 0.5667 - accuracy: 0.7196 - val_loss: 0.5915 - val_accuracy: 0.6970\n",
            "Epoch 19/20\n",
            "2500/2500 [==============================] - 25s 10ms/step - loss: 0.5648 - accuracy: 0.7195 - val_loss: 0.6090 - val_accuracy: 0.6766\n",
            "Epoch 20/20\n",
            "2500/2500 [==============================] - 25s 10ms/step - loss: 0.5643 - accuracy: 0.7192 - val_loss: 0.5628 - val_accuracy: 0.7148\n"
          ]
        },
        {
          "output_type": "execute_result",
          "data": {
            "text/plain": [
              "<keras.callbacks.History at 0x7f2b0cb22190>"
            ]
          },
          "metadata": {},
          "execution_count": 12
        }
      ]
    },
    {
      "cell_type": "code",
      "source": [
        "from sklearn.metrics import roc_auc_score\n",
        "pred_prob2 = model2.predict(x_test)\n",
        "auc_score2 = roc_auc_score(y_test, pred_prob2[:])\n",
        "auc_score2"
      ],
      "metadata": {
        "colab": {
          "base_uri": "https://localhost:8080/"
        },
        "id": "BJhl26_vEheS",
        "outputId": "e833bc5c-9e91-4d2e-ed92-b04c8300b0b6"
      },
      "execution_count": 13,
      "outputs": [
        {
          "output_type": "stream",
          "name": "stdout",
          "text": [
            "313/313 [==============================] - 1s 4ms/step\n"
          ]
        },
        {
          "output_type": "execute_result",
          "data": {
            "text/plain": [
              "0.7849721247491227"
            ]
          },
          "metadata": {},
          "execution_count": 13
        }
      ]
    },
    {
      "cell_type": "code",
      "source": [
        "pred_final = 0.6*auc_score1 + 0.4*auc_score2\n",
        "pred_final"
      ],
      "metadata": {
        "colab": {
          "base_uri": "https://localhost:8080/"
        },
        "id": "ehosuqyLEi3y",
        "outputId": "9d25d20f-b5a9-4894-cc18-69bf9ac9cc76"
      },
      "execution_count": 15,
      "outputs": [
        {
          "output_type": "execute_result",
          "data": {
            "text/plain": [
              "0.7827976331786985"
            ]
          },
          "metadata": {},
          "execution_count": 15
        }
      ]
    }
  ]
}